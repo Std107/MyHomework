{
 "cells": [
  {
   "cell_type": "markdown",
   "metadata": {},
   "source": [
    "# แบบฝึกหัด บทที่ 5 ตัวแปรและประเภทข้อมูล"
   ]
  },
  {
   "cell_type": "code",
   "execution_count": 6,
   "metadata": {},
   "outputs": [
    {
     "data": {
      "text/plain": [
       "'\\nชื่อ - สกุล - รหัส\\nนายจิตติ์นิพิฐ ศิวะรัตน์ 6612732107\\n\\n'"
      ]
     },
     "execution_count": 6,
     "metadata": {},
     "output_type": "execute_result"
    }
   ],
   "source": [
    "\"\"\"\n",
    "ชื่อ - สกุล - รหัส\n",
    "นายจิตติ์นิพิฐ ศิวะรัตน์ 6612732107\n",
    "\n",
    "\"\"\""
   ]
  },
  {
   "cell_type": "markdown",
   "metadata": {},
   "source": [
    "## 1.\tประเภทของตัวเลขที่ภาษาไพธอนให้การรองรับมีอะไรบ้าง"
   ]
  },
  {
   "cell_type": "code",
   "execution_count": null,
   "metadata": {},
   "outputs": [],
   "source": [
    "\n",
    "int (จำนวนเต็ม): แทนจำนวนเต็มบวกหรือลบโดยไม่มีทศนิยม เช่น 1, -5, 1000, 0 เป็นต้น.\n",
    "\n",
    "float (จำนวนทศนิยม): แทนจำนวนทศนิยมหรือจำนวนจริง (real numbers) เช่น 3.14, -0.5, 2.0 เป็นต้น.\n",
    "\n",
    "complex (จำนวนเชิงซ้อน): แทนจำนวนเชิงซ้อนโดยมีส่วนจริงและส่วนจินตภาพ เช่น 2 + 3j, -1 - 4j เป็นต้น.\n"
   ]
  },
  {
   "cell_type": "markdown",
   "metadata": {},
   "source": [
    "## 2.จงแสดงชนิดข้อมูลของตัวแปร a และ b"
   ]
  },
  {
   "cell_type": "code",
   "execution_count": null,
   "metadata": {},
   "outputs": [],
   "source": [
    "\"\"\"\n",
    "a = 15.50\n",
    "b = ‘Python’ \n",
    "จงแสดงชนิดข้อมูลของตัวแปร a และ b\n",
    "\"\"\""
   ]
  },
  {
   "cell_type": "code",
   "execution_count": 4,
   "metadata": {},
   "outputs": [
    {
     "name": "stdout",
     "output_type": "stream",
     "text": [
      "<class 'float'>\n",
      "<class 'str'>\n"
     ]
    }
   ],
   "source": [
    "a = 15.50\n",
    "b = 'Python'\n",
    "\n",
    "print(type(a))\n",
    "print(type(b))"
   ]
  },
  {
   "cell_type": "markdown",
   "metadata": {},
   "source": [
    "## 3.จงใช้คำสั่ง print() เพื่อแสดงสตริงต่อไปนี้\n",
    "\n",
    "- Jane's teacher says \"You have to study hard\" –"
   ]
  },
  {
   "cell_type": "code",
   "execution_count": 5,
   "metadata": {},
   "outputs": [
    {
     "name": "stdout",
     "output_type": "stream",
     "text": [
      " Jane's teacher says\"You have to study hard\"-\n"
     ]
    }
   ],
   "source": [
    "print(\" Jane's teacher says\\\"You have to study hard\\\"-\")"
   ]
  },
  {
   "cell_type": "markdown",
   "metadata": {},
   "source": [
    "## 4.\tจงแสดงผลลัพธ์ของคำสั่งต่อไปนี้ "
   ]
  },
  {
   "cell_type": "code",
   "execution_count": null,
   "metadata": {},
   "outputs": [],
   "source": [
    "\"\"\"\n",
    "print(\"{2} {0} {1}\".format(\"apple\", \n",
    "         \"pineapple\", \n",
    "         \"banana\"))\n",
    "\"\"\""
   ]
  },
  {
   "cell_type": "markdown",
   "metadata": {},
   "source": [
    "print(\"{2} {0} {1}\".format(\"apple\", \n",
    "         \"pineapple\", \n",
    "         \"banana\"))"
   ]
  },
  {
   "cell_type": "markdown",
   "metadata": {},
   "source": [
    "## 5. กำหนดให้ตัวแปร "
   ]
  },
  {
   "cell_type": "code",
   "execution_count": null,
   "metadata": {},
   "outputs": [],
   "source": [
    "\"\"\"\n",
    "pi = 3.141592653589\n",
    "จงแสดงค่าของตัวแปร pi ออกทางหน้าจอให้มีทศนิยมเพียง 3 จุด\n",
    "\"\"\""
   ]
  },
  {
   "cell_type": "code",
   "execution_count": 3,
   "metadata": {},
   "outputs": [
    {
     "name": "stdout",
     "output_type": "stream",
     "text": [
      "3.142\n"
     ]
    }
   ],
   "source": [
    "pi = 3.141592653589\n",
    "print(\"{:.3f}\".format(pi))"
   ]
  },
  {
   "cell_type": "markdown",
   "metadata": {},
   "source": [
    "## 6.กำหนดให้ \n",
    "\n",
    "str = \"Python Programming\"\n",
    "\n",
    "จงหาผลลัพธ์ของ str[7:]\n"
   ]
  },
  {
   "cell_type": "code",
   "execution_count": 2,
   "metadata": {},
   "outputs": [
    {
     "name": "stdout",
     "output_type": "stream",
     "text": [
      "Python Programming\n"
     ]
    }
   ],
   "source": [
    "str = \"Python Programming\"\n",
    "print(str[:7] + 'Programming')"
   ]
  },
  {
   "cell_type": "markdown",
   "metadata": {},
   "source": [
    "## 7.จงอธิบายความแตกต่างระหว่างลิสต์และทัพเพิล"
   ]
  },
  {
   "cell_type": "code",
   "execution_count": null,
   "metadata": {},
   "outputs": [],
   "source": [
    "ความเปลี่ยนแปลง (Mutability):\n",
    "ลิสต์ (List): ลิสต์เป็นมาตรการแบบเปลี่ยนแปลง (mutable) ซึ่งหมายความว่าคุณสามารถเพิ่ม, ลบ, หรือแก้ไขสมาชิกในลิสต์หลังจากสร้างมันได้.\n",
    "ทัพเพิล (Tuple): ทัพเพิลเป็นมาตรการแบบไม่เปลี่ยนแปลง (immutable) ซึ่งหมายความว่าคุณไม่สามารถเปลี่ยนแปลงสมาชิกในทัพเพิลหลังจากสร้างมันได้ สมาชิกในทัพเพิลถูกกำหนดค่าที่จุดสร้างและไม่สามารถเปลี่ยนแปลงหลังจากนั้น.\n",
    "\n",
    "วงเล็บ (Brackets):\n",
    "ลิสต์ (List): ลิสต์ใช้วงเล็บ [ ] ในการสร้างและอ้างถึงสมาชิกของลิสต์.\n",
    "ทัพเพิล (Tuple): ทัพเพิลใช้วงเล็บ ( ) ในการสร้างและอ้างถึงสมาชิกของทัพเพิล.\n",
    "\n",
    "การใช้งาน:\n",
    "ลิสต์ (List): ลิสต์มักถูกใช้เมื่อคุณต้องการเก็บข้อมูลที่อาจต้องเปลี่ยนแปลงหรือปรับเปลี่ยนได้ สมาชิกในลิสต์สามารถเพิ่ม, ลด, หรือแก้ไขได้ตลอดเวลา.\n",
    "ทัพเพิล (Tuple): ทัพเพิลมักถูกใช้เมื่อคุณต้องการเก็บข้อมูลที่คงที่และไม่สามารถเปลี่ยนแปลงได้ สมาชิกในทัพเพิลถูกกำหนดค่าที่จุดสร้างและไม่สามารถเปลี่ยนแปลงหลังจากนั้น.\n",
    "\n",
    "ประสิทธิภาพ (Performance):\n",
    "ในบางกรณีทัพเพิลมีประสิทธิภาพที่ดีกว่าในการใช้หน่วยความจำและการทำงานเมื่อคุณไม่ต้องการเปลี่ยนแปลงข้อมูล.\n",
    "\n",
    "การใช้งานทั่วไป:\n",
    "ลิสต์ (List): ลิสต์เหมาะสำหรับการเก็บข้อมูลที่ต้องการเปลี่ยนแปลงและต้องการใช้เมธอดที่เกี่ยวข้องกับลิสต์ เช่น append, remove, pop และอื่น ๆ.\n",
    "ทัพเพิล (Tuple): ทัพเพิลเหมาะสำหรับการเก็บข้อมูลที่คงที่และไม่ต้องการเปลี่ยนแปลง ใช้เมื่อคุณต้องการให้ข้อมูลเป็นคงที่และไม่มีการเปลี่ยนแปลงต่อจากการกำหนดค่าเริ่มต้น."
   ]
  },
  {
   "cell_type": "code",
   "execution_count": null,
   "metadata": {},
   "outputs": [],
   "source": []
  }
 ],
 "metadata": {
  "interpreter": {
   "hash": "40d3a090f54c6569ab1632332b64b2c03c39dcf918b08424e98f38b5ae0af88f"
  },
  "kernelspec": {
   "display_name": "Python 3 (ipykernel)",
   "language": "python",
   "name": "python3"
  },
  "language_info": {
   "codemirror_mode": {
    "name": "ipython",
    "version": 3
   },
   "file_extension": ".py",
   "mimetype": "text/x-python",
   "name": "python",
   "nbconvert_exporter": "python",
   "pygments_lexer": "ipython3",
   "version": "3.11.5"
  }
 },
 "nbformat": 4,
 "nbformat_minor": 4
}
