{
 "cells": [
  {
   "cell_type": "markdown",
   "id": "62ce9e46-1de8-4e9c-b7df-b394839a6a21",
   "metadata": {},
   "source": [
    "# แบบฝึกหัด บทที่ 5 ตัวแปรและประเภทข้อมูล (Dictionary)"
   ]
  },
  {
   "cell_type": "raw",
   "id": "9564470b-efa1-4ac8-ba22-61dbdd07e80f",
   "metadata": {},
   "source": [
    "\"\"\"\n",
    "ชื่อ - สกุล - รหัส\n",
    "นายจิตติ์นิพิฐ ศิวะรัตน์ 6612732107\n",
    "\n",
    "\"\"\""
   ]
  },
  {
   "cell_type": "markdown",
   "id": "b19a4944-4a9d-4a27-9aaa-e3b3228c515d",
   "metadata": {},
   "source": [
    "## 1.\tจงแปลงข้อมูลต่อไปนี้ให้เป็น Dictionary"
   ]
  },
  {
   "cell_type": "code",
   "execution_count": 3,
   "id": "f271ff21-fcd6-42dc-9bb0-3bd9ed049480",
   "metadata": {},
   "outputs": [
    {
     "data": {
      "text/plain": [
       "' \\n6611127320001 นาย ศักรินทร์ หาญทอง โรงเรียนวัดหลวงวิทยา\\n6611127320002 นาย ทวีพรโชค ดาวจันทร โรงเรียนนาเเก้ววิทยา\\n6611127320003 นาย ฐิราชัย พลหาญ โรงเรียนโขงเจียมวิทยาคม\\n6611127320004 นาย ชานนท์ รูปคุ้ม โรงเรียนบ้านกันทรารมย์\\n'"
      ]
     },
     "execution_count": 3,
     "metadata": {},
     "output_type": "execute_result"
    }
   ],
   "source": [
    "\"\"\" \n",
    "6611127320001 นาย ศักรินทร์ หาญทอง โรงเรียนวัดหลวงวิทยา\n",
    "6611127320002 นาย ทวีพรโชค ดาวจันทร โรงเรียนนาเเก้ววิทยา\n",
    "6611127320003 นาย ฐิราชัย พลหาญ โรงเรียนโขงเจียมวิทยาคม\n",
    "6611127320004 นาย ชานนท์ รูปคุ้ม โรงเรียนบ้านกันทรารมย์\n",
    "\"\"\""
   ]
  },
  {
   "cell_type": "code",
   "execution_count": 2,
   "id": "e2b4de8d-241e-4d6b-9241-6772a1cb28ce",
   "metadata": {
    "tags": []
   },
   "outputs": [],
   "source": [
    "# คำตอบ\n",
    "my_students = {\n",
    "    '6611127320001': {\n",
    "        'prefix': 'นาย',\n",
    "        'first_name': 'ศักรินทร์',\n",
    "        'last_name': 'หาญทอง',\n",
    "        'school': 'โรงเรียนวัดหลวงวิทยา',\n",
    "    },\n",
    "    '6611127320002': {\n",
    "        'prefix': 'นาย',\n",
    "        'first_name': 'ทวีพรโชค',\n",
    "        'last_name': 'ดาวจันทร',\n",
    "        'school': 'โรงเรียนนาเเก้ววิทยา',\n",
    "    },\n",
    "    '6611127320001': {\n",
    "        'prefix': 'นาย',\n",
    "        'first_name': 'ศักรินทร์',\n",
    "        'last_name': 'พลหาญ',\n",
    "        'school': 'โรงเรียนโขงเจียมวิทยาคม',\n",
    "    },\n",
    "    '6611127320001': {\n",
    "        'prefix': 'นาย',\n",
    "        'first_name': 'ชานนท์',\n",
    "        'last_name': 'รูปคุ้ม',\n",
    "        'school': 'โรงเรียนบ้านกันทรารมย์',\n",
    "    },\n",
    "}"
   ]
  },
  {
   "cell_type": "markdown",
   "id": "d0f7791f-a4fa-49a2-bdd1-32de7e339a26",
   "metadata": {},
   "source": [
    "## 2.จงแสดงวิธีการเข้าถึงเข้ามูลรายบุคคล"
   ]
  },
  {
   "cell_type": "code",
   "execution_count": 4,
   "id": "15c8a12c-ed6f-4964-9615-17292bf59c72",
   "metadata": {
    "tags": []
   },
   "outputs": [
    {
     "data": {
      "text/plain": [
       "'ชานนท์'"
      ]
     },
     "execution_count": 4,
     "metadata": {},
     "output_type": "execute_result"
    }
   ],
   "source": [
    "my_students.get('6611127320001').get('first_name')\n",
    "\n"
   ]
  },
  {
   "cell_type": "code",
   "execution_count": null,
   "id": "0725488b-1b0e-4076-8142-5136095e06c0",
   "metadata": {},
   "outputs": [],
   "source": []
  }
 ],
 "metadata": {
  "kernelspec": {
   "display_name": "Python 3 (ipykernel)",
   "language": "python",
   "name": "python3"
  },
  "language_info": {
   "codemirror_mode": {
    "name": "ipython",
    "version": 3
   },
   "file_extension": ".py",
   "mimetype": "text/x-python",
   "name": "python",
   "nbconvert_exporter": "python",
   "pygments_lexer": "ipython3",
   "version": "3.11.5"
  }
 },
 "nbformat": 4,
 "nbformat_minor": 5
}
